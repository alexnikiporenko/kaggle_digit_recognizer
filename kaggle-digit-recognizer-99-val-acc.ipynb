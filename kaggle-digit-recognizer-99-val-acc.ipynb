{
 "cells": [
  {
   "cell_type": "code",
   "execution_count": 1,
   "id": "832510d8",
   "metadata": {
    "_cell_guid": "b1076dfc-b9ad-4769-8c92-a6c4dae69d19",
    "_uuid": "8f2839f25d086af736a60e9eeb907d3b93b6e0e5",
    "execution": {
     "iopub.execute_input": "2021-11-12T17:24:04.514514Z",
     "iopub.status.busy": "2021-11-12T17:24:04.513538Z",
     "iopub.status.idle": "2021-11-12T17:24:10.188083Z",
     "shell.execute_reply": "2021-11-12T17:24:10.187325Z",
     "shell.execute_reply.started": "2021-11-12T17:19:29.970635Z"
    },
    "papermill": {
     "duration": 5.717562,
     "end_time": "2021-11-12T17:24:10.188280",
     "exception": false,
     "start_time": "2021-11-12T17:24:04.470718",
     "status": "completed"
    },
    "tags": []
   },
   "outputs": [],
   "source": [
    "import csv\n",
    "import pandas as pd\n",
    "import numpy as np\n",
    "import random\n",
    "import tensorflow as tf\n",
    "from tensorflow.keras.optimizers import RMSprop\n",
    "from tensorflow.keras.preprocessing.image import ImageDataGenerator"
   ]
  },
  {
   "cell_type": "code",
   "execution_count": 2,
   "id": "0a66184e",
   "metadata": {
    "execution": {
     "iopub.execute_input": "2021-11-12T17:24:10.225356Z",
     "iopub.status.busy": "2021-11-12T17:24:10.224696Z",
     "iopub.status.idle": "2021-11-12T17:24:48.140363Z",
     "shell.execute_reply": "2021-11-12T17:24:48.141552Z",
     "shell.execute_reply.started": "2021-11-12T17:19:34.809630Z"
    },
    "papermill": {
     "duration": 37.939425,
     "end_time": "2021-11-12T17:24:48.141835",
     "exception": false,
     "start_time": "2021-11-12T17:24:10.202410",
     "status": "completed"
    },
    "tags": []
   },
   "outputs": [
    {
     "name": "stdout",
     "output_type": "stream",
     "text": [
      "(37800,)\n",
      "(37800, 28, 28, 1)\n",
      "(4200,)\n",
      "(4200, 28, 28, 1)\n"
     ]
    }
   ],
   "source": [
    "def get_data(filename):\n",
    "    with open(filename) as training_file:\n",
    "        \n",
    "        lines = training_file.readlines()[1:]\n",
    "        random.shuffle(lines)\n",
    "        \n",
    "        labelslist = []\n",
    "        imageslist = []\n",
    "        \n",
    "        for line in lines:\n",
    "            \n",
    "            row = line.split(\",\")\n",
    "            \n",
    "            labelslist.append(row[0])\n",
    "            \n",
    "            image = np.array(row[1:]).astype(np.float32)\n",
    "            imageslist.append( np.array_split(image, 28) )\n",
    "        \n",
    "        split_point = int(len(lines) * 0.9)\n",
    "        \n",
    "        train_labelslist = labelslist[:split_point]\n",
    "        val_labelslist = labelslist[split_point:]\n",
    "        \n",
    "        train_imageslist = imageslist[:split_point]\n",
    "        val_imageslist = imageslist[split_point:]\n",
    "        \n",
    "        train_labels = np.array(train_labelslist).astype(np.float32)\n",
    "        val_labels = np.array(val_labelslist).astype(np.float32)\n",
    "        \n",
    "        train_images = np.array(train_imageslist, dtype=object)\n",
    "        val_images = np.array(val_imageslist, dtype=object)\n",
    "        \n",
    "    return train_labels, train_images, val_labels, val_images\n",
    "\n",
    "training_labels, training_images, validation_labels, validation_images = get_data('../input/digit-recognizer/train.csv')\n",
    "\n",
    "training_images = np.expand_dims(training_images, axis=3)\n",
    "validation_images = np.expand_dims(validation_images, axis=3)\n",
    "\n",
    "print(training_labels.shape)\n",
    "print(training_images.shape)\n",
    "print(validation_labels.shape)\n",
    "print(validation_images.shape)"
   ]
  },
  {
   "cell_type": "code",
   "execution_count": 3,
   "id": "e54d5a38",
   "metadata": {
    "execution": {
     "iopub.execute_input": "2021-11-12T17:24:48.172873Z",
     "iopub.status.busy": "2021-11-12T17:24:48.171772Z",
     "iopub.status.idle": "2021-11-12T17:24:49.767020Z",
     "shell.execute_reply": "2021-11-12T17:24:49.764755Z",
     "shell.execute_reply.started": "2021-11-12T17:20:06.978642Z"
    },
    "papermill": {
     "duration": 1.614995,
     "end_time": "2021-11-12T17:24:49.768781",
     "exception": false,
     "start_time": "2021-11-12T17:24:48.153786",
     "status": "completed"
    },
    "tags": []
   },
   "outputs": [],
   "source": [
    "train_datagen = ImageDataGenerator(\n",
    "                          rescale = 1./255,\n",
    "                          rotation_range=60,\n",
    "                          width_shift_range=0.1,\n",
    "                          height_shift_range=0.1,\n",
    "                          shear_range=0.2,\n",
    "                          zoom_range=0.2,\n",
    "                          fill_mode='nearest')\n",
    "\n",
    "validation_datagen = ImageDataGenerator(rescale = 1./255)\n",
    "\n",
    "train_generator = train_datagen.flow(training_images,\n",
    "                                    training_labels,\n",
    "                                    batch_size=200)\n",
    "\n",
    "validation_generator = validation_datagen.flow(validation_images,\n",
    "                                            validation_labels,\n",
    "                                            batch_size=200)"
   ]
  },
  {
   "cell_type": "code",
   "execution_count": 4,
   "id": "fc625fba",
   "metadata": {
    "execution": {
     "iopub.execute_input": "2021-11-12T17:24:49.824736Z",
     "iopub.status.busy": "2021-11-12T17:24:49.823637Z",
     "iopub.status.idle": "2021-11-12T17:24:49.836591Z",
     "shell.execute_reply": "2021-11-12T17:24:49.837946Z",
     "shell.execute_reply.started": "2021-11-12T17:20:08.511348Z"
    },
    "papermill": {
     "duration": 0.04646,
     "end_time": "2021-11-12T17:24:49.838522",
     "exception": false,
     "start_time": "2021-11-12T17:24:49.792062",
     "status": "completed"
    },
    "tags": []
   },
   "outputs": [],
   "source": [
    "class myCb(tf.keras.callbacks.Callback):\n",
    "    def on_epoch_end(self, epoch, logs={}):\n",
    "        if logs.get(\"val_accuracy\") >= 0.992:\n",
    "            print(\"Reached 99.2% accuracy so cancelling training!\")\n",
    "            self.model.stop_training = True\n",
    "callbacks = myCb()"
   ]
  },
  {
   "cell_type": "code",
   "execution_count": 5,
   "id": "ebab614f",
   "metadata": {
    "execution": {
     "iopub.execute_input": "2021-11-12T17:24:49.900033Z",
     "iopub.status.busy": "2021-11-12T17:24:49.898452Z",
     "iopub.status.idle": "2021-11-12T17:34:50.213230Z",
     "shell.execute_reply": "2021-11-12T17:34:50.214050Z",
     "shell.execute_reply.started": "2021-11-12T17:20:08.518867Z"
    },
    "papermill": {
     "duration": 600.351536,
     "end_time": "2021-11-12T17:34:50.214321",
     "exception": false,
     "start_time": "2021-11-12T17:24:49.862785",
     "status": "completed"
    },
    "tags": []
   },
   "outputs": [
    {
     "name": "stderr",
     "output_type": "stream",
     "text": [
      "2021-11-12 17:24:50.032621: I tensorflow/stream_executor/cuda/cuda_gpu_executor.cc:937] successful NUMA node read from SysFS had negative value (-1), but there must be at least one NUMA node, so returning NUMA node zero\n",
      "2021-11-12 17:24:50.184191: I tensorflow/stream_executor/cuda/cuda_gpu_executor.cc:937] successful NUMA node read from SysFS had negative value (-1), but there must be at least one NUMA node, so returning NUMA node zero\n",
      "2021-11-12 17:24:50.185504: I tensorflow/stream_executor/cuda/cuda_gpu_executor.cc:937] successful NUMA node read from SysFS had negative value (-1), but there must be at least one NUMA node, so returning NUMA node zero\n",
      "2021-11-12 17:24:50.189216: I tensorflow/core/platform/cpu_feature_guard.cc:142] This TensorFlow binary is optimized with oneAPI Deep Neural Network Library (oneDNN) to use the following CPU instructions in performance-critical operations:  AVX2 FMA\n",
      "To enable them in other operations, rebuild TensorFlow with the appropriate compiler flags.\n",
      "2021-11-12 17:24:50.190644: I tensorflow/stream_executor/cuda/cuda_gpu_executor.cc:937] successful NUMA node read from SysFS had negative value (-1), but there must be at least one NUMA node, so returning NUMA node zero\n",
      "2021-11-12 17:24:50.192327: I tensorflow/stream_executor/cuda/cuda_gpu_executor.cc:937] successful NUMA node read from SysFS had negative value (-1), but there must be at least one NUMA node, so returning NUMA node zero\n",
      "2021-11-12 17:24:50.193897: I tensorflow/stream_executor/cuda/cuda_gpu_executor.cc:937] successful NUMA node read from SysFS had negative value (-1), but there must be at least one NUMA node, so returning NUMA node zero\n",
      "2021-11-12 17:24:52.382471: I tensorflow/stream_executor/cuda/cuda_gpu_executor.cc:937] successful NUMA node read from SysFS had negative value (-1), but there must be at least one NUMA node, so returning NUMA node zero\n",
      "2021-11-12 17:24:52.383732: I tensorflow/stream_executor/cuda/cuda_gpu_executor.cc:937] successful NUMA node read from SysFS had negative value (-1), but there must be at least one NUMA node, so returning NUMA node zero\n",
      "2021-11-12 17:24:52.384812: I tensorflow/stream_executor/cuda/cuda_gpu_executor.cc:937] successful NUMA node read from SysFS had negative value (-1), but there must be at least one NUMA node, so returning NUMA node zero\n",
      "2021-11-12 17:24:52.385936: I tensorflow/core/common_runtime/gpu/gpu_device.cc:1510] Created device /job:localhost/replica:0/task:0/device:GPU:0 with 15403 MB memory:  -> device: 0, name: Tesla P100-PCIE-16GB, pci bus id: 0000:00:04.0, compute capability: 6.0\n",
      "2021-11-12 17:24:52.975041: I tensorflow/compiler/mlir/mlir_graph_optimization_pass.cc:185] None of the MLIR Optimization Passes are enabled (registered 2)\n"
     ]
    },
    {
     "name": "stdout",
     "output_type": "stream",
     "text": [
      "Epoch 1/50\n"
     ]
    },
    {
     "name": "stderr",
     "output_type": "stream",
     "text": [
      "2021-11-12 17:24:54.506671: I tensorflow/stream_executor/cuda/cuda_dnn.cc:369] Loaded cuDNN version 8005\n"
     ]
    },
    {
     "name": "stdout",
     "output_type": "stream",
     "text": [
      "189/189 [==============================] - 22s 81ms/step - loss: 0.8634 - accuracy: 0.7167 - val_loss: 0.1871 - val_accuracy: 0.9445\n",
      "Epoch 2/50\n",
      "189/189 [==============================] - 16s 83ms/step - loss: 0.3388 - accuracy: 0.8954 - val_loss: 0.1170 - val_accuracy: 0.9629\n",
      "Epoch 3/50\n",
      "189/189 [==============================] - 15s 81ms/step - loss: 0.2456 - accuracy: 0.9254 - val_loss: 0.0975 - val_accuracy: 0.9707\n",
      "Epoch 4/50\n",
      "189/189 [==============================] - 16s 84ms/step - loss: 0.1994 - accuracy: 0.9383 - val_loss: 0.0937 - val_accuracy: 0.9719\n",
      "Epoch 5/50\n",
      "189/189 [==============================] - 15s 79ms/step - loss: 0.1761 - accuracy: 0.9453 - val_loss: 0.0567 - val_accuracy: 0.9836\n",
      "Epoch 6/50\n",
      "189/189 [==============================] - 16s 87ms/step - loss: 0.1549 - accuracy: 0.9514 - val_loss: 0.0812 - val_accuracy: 0.9733\n",
      "Epoch 7/50\n",
      "189/189 [==============================] - 15s 82ms/step - loss: 0.1383 - accuracy: 0.9571 - val_loss: 0.0518 - val_accuracy: 0.9831\n",
      "Epoch 8/50\n",
      "189/189 [==============================] - 16s 87ms/step - loss: 0.1288 - accuracy: 0.9597 - val_loss: 0.0591 - val_accuracy: 0.9812\n",
      "Epoch 9/50\n",
      "189/189 [==============================] - 15s 79ms/step - loss: 0.1227 - accuracy: 0.9606 - val_loss: 0.0554 - val_accuracy: 0.9831\n",
      "Epoch 10/50\n",
      "189/189 [==============================] - 17s 88ms/step - loss: 0.1104 - accuracy: 0.9647 - val_loss: 0.0473 - val_accuracy: 0.9860\n",
      "Epoch 11/50\n",
      "189/189 [==============================] - 15s 80ms/step - loss: 0.1051 - accuracy: 0.9672 - val_loss: 0.0452 - val_accuracy: 0.9862\n",
      "Epoch 12/50\n",
      "189/189 [==============================] - 17s 90ms/step - loss: 0.1018 - accuracy: 0.9687 - val_loss: 0.0417 - val_accuracy: 0.9871\n",
      "Epoch 13/50\n",
      "189/189 [==============================] - 15s 80ms/step - loss: 0.0991 - accuracy: 0.9695 - val_loss: 0.0443 - val_accuracy: 0.9850\n",
      "Epoch 14/50\n",
      "189/189 [==============================] - 17s 88ms/step - loss: 0.0973 - accuracy: 0.9689 - val_loss: 0.0464 - val_accuracy: 0.9855\n",
      "Epoch 15/50\n",
      "189/189 [==============================] - 15s 80ms/step - loss: 0.0901 - accuracy: 0.9727 - val_loss: 0.0395 - val_accuracy: 0.9890\n",
      "Epoch 16/50\n",
      "189/189 [==============================] - 17s 88ms/step - loss: 0.0912 - accuracy: 0.9714 - val_loss: 0.0361 - val_accuracy: 0.9874\n",
      "Epoch 17/50\n",
      "189/189 [==============================] - 16s 82ms/step - loss: 0.0866 - accuracy: 0.9723 - val_loss: 0.0351 - val_accuracy: 0.9898\n",
      "Epoch 18/50\n",
      "189/189 [==============================] - 16s 86ms/step - loss: 0.0863 - accuracy: 0.9740 - val_loss: 0.0320 - val_accuracy: 0.9902\n",
      "Epoch 19/50\n",
      "189/189 [==============================] - 17s 89ms/step - loss: 0.0835 - accuracy: 0.9741 - val_loss: 0.0345 - val_accuracy: 0.9888\n",
      "Epoch 20/50\n",
      "189/189 [==============================] - 16s 85ms/step - loss: 0.0785 - accuracy: 0.9758 - val_loss: 0.0375 - val_accuracy: 0.9898\n",
      "Epoch 21/50\n",
      "189/189 [==============================] - 16s 86ms/step - loss: 0.0782 - accuracy: 0.9761 - val_loss: 0.0387 - val_accuracy: 0.9871\n",
      "Epoch 22/50\n",
      "189/189 [==============================] - 16s 85ms/step - loss: 0.0796 - accuracy: 0.9760 - val_loss: 0.0335 - val_accuracy: 0.9900\n",
      "Epoch 23/50\n",
      "189/189 [==============================] - 16s 87ms/step - loss: 0.0741 - accuracy: 0.9764 - val_loss: 0.0318 - val_accuracy: 0.9898\n",
      "Epoch 24/50\n",
      "189/189 [==============================] - 16s 85ms/step - loss: 0.0751 - accuracy: 0.9769 - val_loss: 0.0294 - val_accuracy: 0.9917\n",
      "Epoch 25/50\n",
      "189/189 [==============================] - 16s 87ms/step - loss: 0.0724 - accuracy: 0.9775 - val_loss: 0.0380 - val_accuracy: 0.9890\n",
      "Epoch 26/50\n",
      "189/189 [==============================] - 16s 85ms/step - loss: 0.0690 - accuracy: 0.9789 - val_loss: 0.0379 - val_accuracy: 0.9890\n",
      "Epoch 27/50\n",
      "189/189 [==============================] - 17s 88ms/step - loss: 0.0709 - accuracy: 0.9778 - val_loss: 0.0285 - val_accuracy: 0.9912\n",
      "Epoch 28/50\n",
      "189/189 [==============================] - 17s 88ms/step - loss: 0.0722 - accuracy: 0.9774 - val_loss: 0.0403 - val_accuracy: 0.9869\n",
      "Epoch 29/50\n",
      "189/189 [==============================] - 17s 88ms/step - loss: 0.0688 - accuracy: 0.9792 - val_loss: 0.0404 - val_accuracy: 0.9864\n",
      "Epoch 30/50\n",
      "189/189 [==============================] - 16s 85ms/step - loss: 0.0695 - accuracy: 0.9781 - val_loss: 0.0276 - val_accuracy: 0.9914\n",
      "Epoch 31/50\n",
      "189/189 [==============================] - 17s 88ms/step - loss: 0.0648 - accuracy: 0.9795 - val_loss: 0.0288 - val_accuracy: 0.9914\n",
      "Epoch 32/50\n",
      "189/189 [==============================] - 16s 85ms/step - loss: 0.0652 - accuracy: 0.9799 - val_loss: 0.0352 - val_accuracy: 0.9902\n",
      "Epoch 33/50\n",
      "189/189 [==============================] - 17s 92ms/step - loss: 0.0659 - accuracy: 0.9801 - val_loss: 0.0296 - val_accuracy: 0.9905\n",
      "Epoch 34/50\n",
      "189/189 [==============================] - 16s 84ms/step - loss: 0.0610 - accuracy: 0.9806 - val_loss: 0.0294 - val_accuracy: 0.9907\n",
      "Epoch 35/50\n",
      "189/189 [==============================] - 17s 92ms/step - loss: 0.0620 - accuracy: 0.9806 - val_loss: 0.0368 - val_accuracy: 0.9890\n",
      "Epoch 36/50\n",
      "189/189 [==============================] - 16s 85ms/step - loss: 0.0606 - accuracy: 0.9813 - val_loss: 0.0245 - val_accuracy: 0.9933\n",
      "Reached 99.2% accuracy so cancelling training!\n"
     ]
    }
   ],
   "source": [
    "model = tf.keras.models.Sequential([\n",
    "    tf.keras.layers.Conv2D(64, (3,3), activation='relu', input_shape=(28, 28, 1)),\n",
    "    tf.keras.layers.MaxPooling2D(2, 2),\n",
    "    tf.keras.layers.Conv2D(128, (3,3), activation='relu'),\n",
    "    tf.keras.layers.MaxPooling2D(2,2),\n",
    "    tf.keras.layers.Flatten(),\n",
    "    tf.keras.layers.Dropout(0.4),\n",
    "    tf.keras.layers.Dense(256, activation='relu'),\n",
    "    tf.keras.layers.Dense(10, activation='softmax')\n",
    "])\n",
    "\n",
    "model.compile(loss = 'sparse_categorical_crossentropy', optimizer='adam', metrics=['accuracy'])\n",
    "\n",
    "history = model.fit(train_generator, epochs=50, steps_per_epoch=189, validation_data = validation_generator, verbose = 1, validation_steps=21, callbacks=[callbacks])"
   ]
  },
  {
   "cell_type": "code",
   "execution_count": 6,
   "id": "f2a1b11a",
   "metadata": {
    "execution": {
     "iopub.execute_input": "2021-11-12T17:34:55.132664Z",
     "iopub.status.busy": "2021-11-12T17:34:55.131496Z",
     "iopub.status.idle": "2021-11-12T17:34:55.460726Z",
     "shell.execute_reply": "2021-11-12T17:34:55.460111Z",
     "shell.execute_reply.started": "2021-11-12T17:23:06.564987Z"
    },
    "papermill": {
     "duration": 2.934566,
     "end_time": "2021-11-12T17:34:55.460922",
     "exception": false,
     "start_time": "2021-11-12T17:34:52.526356",
     "status": "completed"
    },
    "tags": []
   },
   "outputs": [
    {
     "name": "stdout",
     "output_type": "stream",
     "text": [
      "21/21 [==============================] - 0s 10ms/step - loss: 0.0245 - accuracy: 0.9933\n"
     ]
    },
    {
     "data": {
      "text/plain": [
       "[0.02450508438050747, 0.9933333396911621]"
      ]
     },
     "execution_count": 6,
     "metadata": {},
     "output_type": "execute_result"
    }
   ],
   "source": [
    "model.evaluate(validation_generator, verbose=1)"
   ]
  },
  {
   "cell_type": "code",
   "execution_count": 7,
   "id": "b39a13fe",
   "metadata": {
    "execution": {
     "iopub.execute_input": "2021-11-12T17:35:00.138878Z",
     "iopub.status.busy": "2021-11-12T17:35:00.114375Z",
     "iopub.status.idle": "2021-11-12T17:35:00.652886Z",
     "shell.execute_reply": "2021-11-12T17:35:00.653557Z",
     "shell.execute_reply.started": "2021-11-12T17:23:06.566869Z"
    },
    "papermill": {
     "duration": 2.877265,
     "end_time": "2021-11-12T17:35:00.653789",
     "exception": false,
     "start_time": "2021-11-12T17:34:57.776524",
     "status": "completed"
    },
    "tags": []
   },
   "outputs": [
    {
     "data": {
      "image/png": "[encoded data removed]",
      "text/plain": [
       "<Figure size 432x288 with 1 Axes>"
      ]
     },
     "metadata": {
      "needs_background": "light"
     },
     "output_type": "display_data"
    },
    {
     "data": {
      "image/png": "[encoded data removed]",
      "text/plain": [
       "<Figure size 432x288 with 1 Axes>"
      ]
     },
     "metadata": {
      "needs_background": "light"
     },
     "output_type": "display_data"
    }
   ],
   "source": [
    "import matplotlib.pyplot as plt\n",
    "acc = history.history['accuracy']\n",
    "val_acc = history.history['val_accuracy']\n",
    "loss = history.history['loss']\n",
    "val_loss = history.history['val_loss']\n",
    "\n",
    "epochs = range(len(acc))\n",
    "\n",
    "plt.plot(epochs, acc, 'r', label='Training accuracy')\n",
    "plt.plot(epochs, val_acc, 'b', label='Validation accuracy')\n",
    "plt.title('Training and validation accuracy')\n",
    "plt.legend()\n",
    "plt.figure()\n",
    "\n",
    "plt.plot(epochs, loss, 'r', label='Training Loss')\n",
    "plt.plot(epochs, val_loss, 'b', label='Validation Loss')\n",
    "plt.title('Training and validation loss')\n",
    "plt.legend()\n",
    "\n",
    "plt.show()"
   ]
  },
  {
   "cell_type": "code",
   "execution_count": 8,
   "id": "7b646473",
   "metadata": {
    "execution": {
     "iopub.execute_input": "2021-11-12T17:35:05.393874Z",
     "iopub.status.busy": "2021-11-12T17:35:05.392880Z",
     "iopub.status.idle": "2021-11-12T17:35:30.679842Z",
     "shell.execute_reply": "2021-11-12T17:35:30.679248Z",
     "shell.execute_reply.started": "2021-11-12T17:23:06.568903Z"
    },
    "papermill": {
     "duration": 27.694641,
     "end_time": "2021-11-12T17:35:30.679995",
     "exception": false,
     "start_time": "2021-11-12T17:35:02.985354",
     "status": "completed"
    },
    "tags": []
   },
   "outputs": [
    {
     "name": "stdout",
     "output_type": "stream",
     "text": [
      "(28000, 28, 28, 1)\n"
     ]
    }
   ],
   "source": [
    "def prep_test_data(filename):\n",
    "    with open(filename) as training_file:\n",
    "        \n",
    "        lines = training_file.readlines()[1:]\n",
    "        \n",
    "        imageslist = []\n",
    "        \n",
    "        for line in lines:\n",
    "            row = line.split(\",\")\n",
    "            image = np.array(row).astype(np.float32)\n",
    "            imageslist.append( np.array_split(image, 28) )\n",
    "        \n",
    "        test_images = np.array(imageslist, dtype=object)\n",
    "        \n",
    "    return test_images\n",
    "\n",
    "test_images = prep_test_data('../input/digit-recognizer/test.csv')\n",
    "\n",
    "test_images = np.expand_dims(test_images, axis=3)\n",
    "\n",
    "print(test_images.shape)"
   ]
  },
  {
   "cell_type": "code",
   "execution_count": 9,
   "id": "50b24923",
   "metadata": {
    "execution": {
     "iopub.execute_input": "2021-11-12T17:35:36.429168Z",
     "iopub.status.busy": "2021-11-12T17:35:36.428377Z",
     "iopub.status.idle": "2021-11-12T17:35:38.380184Z",
     "shell.execute_reply": "2021-11-12T17:35:38.380995Z",
     "shell.execute_reply.started": "2021-11-12T17:23:06.570763Z"
    },
    "papermill": {
     "duration": 5.39209,
     "end_time": "2021-11-12T17:35:38.381276",
     "exception": false,
     "start_time": "2021-11-12T17:35:32.989186",
     "status": "completed"
    },
    "tags": []
   },
   "outputs": [],
   "source": [
    "test_datagen = ImageDataGenerator(rescale = 1./255)\n",
    "\n",
    "test_generator = test_datagen.flow(test_images, shuffle=False)\n",
    "\n",
    "test_preds = model.predict(test_generator)\n",
    "\n",
    "test_preds_classes = np.argmax(test_preds,axis = 1) "
   ]
  },
  {
   "cell_type": "code",
   "execution_count": 10,
   "id": "46537f68",
   "metadata": {
    "execution": {
     "iopub.execute_input": "2021-11-12T17:35:43.460799Z",
     "iopub.status.busy": "2021-11-12T17:35:43.459910Z",
     "iopub.status.idle": "2021-11-12T17:35:43.518290Z",
     "shell.execute_reply": "2021-11-12T17:35:43.518888Z",
     "shell.execute_reply.started": "2021-11-12T17:23:06.572729Z"
    },
    "papermill": {
     "duration": 2.458365,
     "end_time": "2021-11-12T17:35:43.519091",
     "exception": false,
     "start_time": "2021-11-12T17:35:41.060726",
     "status": "completed"
    },
    "tags": []
   },
   "outputs": [
    {
     "name": "stdout",
     "output_type": "stream",
     "text": [
      "Your submission was successfully saved!\n"
     ]
    }
   ],
   "source": [
    "submission = pd.DataFrame({'ImageId': range(1,28001), 'Label': test_preds_classes})\n",
    "submission.to_csv('submission.csv', index=False)\n",
    "print(\"Your submission was successfully saved!\")"
   ]
  },
  {
   "cell_type": "code",
   "execution_count": 11,
   "id": "63e052cd",
   "metadata": {
    "execution": {
     "iopub.execute_input": "2021-11-12T17:35:49.240962Z",
     "iopub.status.busy": "2021-11-12T17:35:49.239814Z",
     "iopub.status.idle": "2021-11-12T17:35:49.252045Z",
     "shell.execute_reply": "2021-11-12T17:35:49.252624Z",
     "shell.execute_reply.started": "2021-11-12T17:23:06.574616Z"
    },
    "papermill": {
     "duration": 2.68251,
     "end_time": "2021-11-12T17:35:49.252804",
     "exception": false,
     "start_time": "2021-11-12T17:35:46.570294",
     "status": "completed"
    },
    "tags": []
   },
   "outputs": [
    {
     "data": {
      "text/html": [
       "<div>\n",
       "<style scoped>\n",
       "    .dataframe tbody tr th:only-of-type {\n",
       "        vertical-align: middle;\n",
       "    }\n",
       "\n",
       "    .dataframe tbody tr th {\n",
       "        vertical-align: top;\n",
       "    }\n",
       "\n",
       "    .dataframe thead th {\n",
       "        text-align: right;\n",
       "    }\n",
       "</style>\n",
       "<table border=\"1\" class=\"dataframe\">\n",
       "  <thead>\n",
       "    <tr style=\"text-align: right;\">\n",
       "      <th></th>\n",
       "      <th>ImageId</th>\n",
       "      <th>Label</th>\n",
       "    </tr>\n",
       "  </thead>\n",
       "  <tbody>\n",
       "    <tr>\n",
       "      <th>0</th>\n",
       "      <td>1</td>\n",
       "      <td>2</td>\n",
       "    </tr>\n",
       "    <tr>\n",
       "      <th>1</th>\n",
       "      <td>2</td>\n",
       "      <td>0</td>\n",
       "    </tr>\n",
       "    <tr>\n",
       "      <th>2</th>\n",
       "      <td>3</td>\n",
       "      <td>9</td>\n",
       "    </tr>\n",
       "    <tr>\n",
       "      <th>3</th>\n",
       "      <td>4</td>\n",
       "      <td>0</td>\n",
       "    </tr>\n",
       "    <tr>\n",
       "      <th>4</th>\n",
       "      <td>5</td>\n",
       "      <td>3</td>\n",
       "    </tr>\n",
       "    <tr>\n",
       "      <th>...</th>\n",
       "      <td>...</td>\n",
       "      <td>...</td>\n",
       "    </tr>\n",
       "    <tr>\n",
       "      <th>27995</th>\n",
       "      <td>27996</td>\n",
       "      <td>9</td>\n",
       "    </tr>\n",
       "    <tr>\n",
       "      <th>27996</th>\n",
       "      <td>27997</td>\n",
       "      <td>7</td>\n",
       "    </tr>\n",
       "    <tr>\n",
       "      <th>27997</th>\n",
       "      <td>27998</td>\n",
       "      <td>3</td>\n",
       "    </tr>\n",
       "    <tr>\n",
       "      <th>27998</th>\n",
       "      <td>27999</td>\n",
       "      <td>9</td>\n",
       "    </tr>\n",
       "    <tr>\n",
       "      <th>27999</th>\n",
       "      <td>28000</td>\n",
       "      <td>2</td>\n",
       "    </tr>\n",
       "  </tbody>\n",
       "</table>\n",
       "<p>28000 rows × 2 columns</p>\n",
       "</div>"
      ],
      "text/plain": [
       "       ImageId  Label\n",
       "0            1      2\n",
       "1            2      0\n",
       "2            3      9\n",
       "3            4      0\n",
       "4            5      3\n",
       "...        ...    ...\n",
       "27995    27996      9\n",
       "27996    27997      7\n",
       "27997    27998      3\n",
       "27998    27999      9\n",
       "27999    28000      2\n",
       "\n",
       "[28000 rows x 2 columns]"
      ]
     },
     "execution_count": 11,
     "metadata": {},
     "output_type": "execute_result"
    }
   ],
   "source": [
    "submission"
   ]
  }
 ],
 "metadata": {
  "kernelspec": {
   "display_name": "Python 3",
   "language": "python",
   "name": "python3"
  },
  "language_info": {
   "codemirror_mode": {
    "name": "ipython",
    "version": 3
   },
   "file_extension": ".py",
   "mimetype": "text/x-python",
   "name": "python",
   "nbconvert_exporter": "python",
   "pygments_lexer": "ipython3",
   "version": "3.7.10"
  },
  "papermill": {
   "default_parameters": {},
   "duration": 719.244193,
   "end_time": "2021-11-12T17:35:54.669920",
   "environment_variables": {},
   "exception": null,
   "input_path": "__notebook__.ipynb",
   "output_path": "__notebook__.ipynb",
   "parameters": {},
   "start_time": "2021-11-12T17:23:55.425727",
   "version": "2.3.3"
  }
 },
 "nbformat": 4,
 "nbformat_minor": 5
}
